{
  "nbformat": 4,
  "nbformat_minor": 0,
  "metadata": {
    "colab": {
      "provenance": []
    },
    "kernelspec": {
      "name": "python3",
      "display_name": "Python 3"
    },
    "language_info": {
      "name": "python"
    }
  },
  "cells": [
    {
      "cell_type": "markdown",
      "source": [
        "# Assignment 4: APIs and Data Enrichment with LLMs"
      ],
      "metadata": {
        "id": "U_ek8R17Vw6J"
      }
    },
    {
      "cell_type": "markdown",
      "source": [
        "## Task I - Complete Hugging Face and Google Places API setups"
      ],
      "metadata": {
        "id": "wERL0PnCV6nZ"
      }
    },
    {
      "cell_type": "code",
      "execution_count": null,
      "metadata": {
        "id": "30se-NVAVoiZ"
      },
      "outputs": [],
      "source": [
        "# Google Places API setup\n",
        "\n",
        "from google.colab import userdata\n",
        "API_KEY = userdata.get('google_places')"
      ]
    },
    {
      "cell_type": "code",
      "source": [
        "import requests"
      ],
      "metadata": {
        "id": "fcqolDvbWrks"
      },
      "execution_count": null,
      "outputs": []
    },
    {
      "cell_type": "code",
      "source": [
        "# Hugging face setup to import the LLama model\n",
        "\n",
        "import torch\n",
        "from transformers import pipeline\n",
        "\n",
        "HF_TOKEN = userdata.get('HF_TOKEN') # Your token must be in this secret.\n",
        "\n",
        "pipe = pipeline(\"text-generation\", \"meta-llama/Meta-Llama-3-8B-Instruct\", torch_dtype=torch.bfloat16, device_map=\"auto\",token=HF_TOKEN)\n"
      ],
      "metadata": {
        "id": "Dy9MNZ7MWsvD"
      },
      "execution_count": null,
      "outputs": []
    },
    {
      "cell_type": "markdown",
      "source": [
        "## Task II - Call the Google Places API"
      ],
      "metadata": {
        "id": "oMhYhGGMaZGm"
      }
    },
    {
      "cell_type": "code",
      "source": [
        "# Selecting 3 businesses of common type\n",
        "business_names = [\"Little Caesars Pizza\", \"Burger King\", \"Del Taco\"]\n",
        "\n",
        "# Defining a function to get reviews of businesses based on their names\n",
        "\n",
        "def get_reviews(business):\n",
        "  find_place_url = f\"https://maps.googleapis.com/maps/api/place/findplacefromtext/json?input={business}&inputtype=textquery&key={API_KEY}\"\n",
        "  response = requests.get(find_place_url)\n",
        "  json_response = response.json()\n",
        "  place_id = json_response[\"candidates\"][0][\"place_id\"]\n",
        "  details_url = f\"https://maps.googleapis.com/maps/api/place/details/json?place_id={place_id}&fields=reviews&key={API_KEY}\"\n",
        "  response = requests.get(details_url)\n",
        "  reviews = response.json().get('result', {}).get('reviews', [])\n",
        "\n",
        "# Add business name to each review\n",
        "  for review in reviews:\n",
        "        review['business_name'] = business  # Add the business name to each review dictionary\n",
        "  return reviews\n",
        "\n",
        "# Getting reviews of all three businesses along with the business name\n",
        "reviews = []\n",
        "for business in business_names:\n",
        "  reviews.extend(get_reviews(business))\n",
        "\n",
        "  # Printing the reviews\n",
        "for review in reviews:\n",
        "  print(review)"
      ],
      "metadata": {
        "colab": {
          "base_uri": "https://localhost:8080/"
        },
        "id": "pVQVUL03Zqis",
        "outputId": "399a870e-89b7-4180-dac7-f585c28e42e4"
      },
      "execution_count": null,
      "outputs": [
        {
          "output_type": "stream",
          "name": "stdout",
          "text": [
            "{'author_name': 'Michael Diblasio', 'author_url': 'https://www.google.com/maps/contrib/102108617232083174319/reviews', 'language': 'en', 'original_language': 'en', 'profile_photo_url': 'https://lh3.googleusercontent.com/a/ACg8ocI1r9UaewsTG6UkiDdvEbLtkhMjgkclRbLkK6KRsp8dKJgXJA=s128-c0x00000000-cc-rp-mo', 'rating': 1, 'relative_time_description': 'in the last week', 'text': 'Gotta love it. So I order for delivery. Tip 25%. They forgot the 2 liter soda. I call the location,  they tell me I need to drive down to pick it up..... First and last time ordering here.', 'time': 1726426023, 'translated': False, 'business_name': 'Little Caesars Pizza'}\n",
            "{'author_name': 'Linda Pallotta', 'author_url': 'https://www.google.com/maps/contrib/105647517702372625243/reviews', 'language': 'en', 'original_language': 'en', 'profile_photo_url': 'https://lh3.googleusercontent.com/a/ACg8ocLqQzUFp4HuPnk4ucVGFIJuCT7vui9Uj0y4bjDAq-1MkTpYUw=s128-c0x00000000-cc-rp-mo-ba6', 'rating': 3, 'relative_time_description': '5 months ago', 'text': \"The employee who helped us didn't have a very professional attitude. At all the other Little Caesar establishments that we've been to, we were always able to get all the flat style chicken wings in our order and none of the drum stick style. She said that they couldn't do it and gave a lame excuse. The taste was a bit off, too. Other than that, things were OK. Our bread sticks were great, and the new item that is kind of like a pizza pocket was OK. They needed more filling on the inside.\", 'time': 1712037527, 'translated': False, 'business_name': 'Little Caesars Pizza'}\n",
            "{'author_name': 'Lilibeth Soliman', 'author_url': 'https://www.google.com/maps/contrib/108720645217746245338/reviews', 'language': 'en', 'original_language': 'en', 'profile_photo_url': 'https://lh3.googleusercontent.com/a-/ALV-UjW4WRRUSEb5F3HvtE9OsVHPo-uVHA_x1wsJzsPecTbVW6jZUmRa=s128-c0x00000000-cc-rp-mo-ba4', 'rating': 5, 'relative_time_description': 'a week ago', 'text': 'Staff are friendly and the prices are affordable. And a good pizza.', 'time': 1725580124, 'translated': False, 'business_name': 'Little Caesars Pizza'}\n",
            "{'author_name': 'Draymond Green', 'author_url': 'https://www.google.com/maps/contrib/113640515012456210100/reviews', 'language': 'en', 'original_language': 'en', 'profile_photo_url': 'https://lh3.googleusercontent.com/a/ACg8ocJY-fzO1yshrzh0iIKs8GEXVAjq_9wXiXiI5nheXxK_l0CInA=s128-c0x00000000-cc-rp-mo', 'rating': 3, 'relative_time_description': '3 months ago', 'text': 'The management on dayshift is excellent. I would give my reviews five stars if the management on days controlled the night shift. unfortunately the manager on dayshift isn’t on night shift. There’s a young lady on Night Shift by the name of Ariana who is extremely rude... She’s called me a liar. She told me I don’t know what I’m talking about after Ordering a pizza I previously received the day before on dayshift. I’ve been told on nights there’s nothing they could do as far as ordering my pizza. Sometimes I have to go from Vallejo to Fairfield or even Richmond on Night Shift to get what I want because I always get turned down. Once again the day shift is great, great service, great food, great management. Ps… I only order the zesty cheese bread with jalapeño sauce and add sausage. Night shift tells me it can’t be done, go somewhere else because there’s nothing they can do. Dayshift takes my order and makes it perfectly every time.', 'time': 1716671013, 'translated': False, 'business_name': 'Little Caesars Pizza'}\n",
            "{'author_name': 'Mya Alvarez', 'author_url': 'https://www.google.com/maps/contrib/100991174805137233163/reviews', 'language': 'en', 'original_language': 'en', 'profile_photo_url': 'https://lh3.googleusercontent.com/a-/ALV-UjW3dgvIobVIt-08whwpxj6GAl19Tg-SOQi25kWplUB7Nwi6dNk2=s128-c0x00000000-cc-rp-mo-ba4', 'rating': 5, 'relative_time_description': 'in the last week', 'text': 'Little pizza bites are so good! Cheese pizza is okay. I needed more cheese, I could see the sauce on the pizza.', 'time': 1726359853, 'translated': False, 'business_name': 'Little Caesars Pizza'}\n",
            "{'author_name': 'Wendy Jo Wolf', 'author_url': 'https://www.google.com/maps/contrib/114930011686098388716/reviews', 'language': 'en', 'original_language': 'en', 'profile_photo_url': 'https://lh3.googleusercontent.com/a/ACg8ocIE5q3S8b3JvIglryT9pIScU6GDvD7SuTbrAdZEDqBCi73nnQ=s128-c0x00000000-cc-rp-mo-ba3', 'rating': 5, 'relative_time_description': 'a month ago', 'text': 'This is the best Burger King l have ever visited. I stop here often when traveling.  Always clean. Food is always good, and veggie toppings are always fresh.', 'time': 1722186722, 'translated': False, 'business_name': 'Burger King'}\n",
            "{'author_name': 'Elina Koka', 'author_url': 'https://www.google.com/maps/contrib/108432403776300947727/reviews', 'language': 'en', 'original_language': 'en', 'profile_photo_url': 'https://lh3.googleusercontent.com/a/ACg8ocJKSfC1pNw2RWkoTMfTqMfNAqFzmMOv3YQFZVvqlP_4YJ3lRw=s128-c0x00000000-cc-rp-mo-ba2', 'rating': 2, 'relative_time_description': 'a month ago', 'text': 'The food was like any other Burger King, but check your orders closely before leaving. We made the mistake getting on the highway first and 4 out of our 10 items were wrong. :(', 'time': 1723083181, 'translated': False, 'business_name': 'Burger King'}\n",
            "{'author_name': 'Clayton R. Telfer', 'author_url': 'https://www.google.com/maps/contrib/115342930335708231141/reviews', 'language': 'en', 'original_language': 'en', 'profile_photo_url': 'https://lh3.googleusercontent.com/a-/ALV-UjXH_1GvQ8aQUKfHClsgCeXE647UbvZWq18S8Ql7yG1GF2JjmKk=s128-c0x00000000-cc-rp-mo-ba3', 'rating': 5, 'relative_time_description': 'a month ago', 'text': 'We stopped in on our way home from the Wasco County Fair, and we were very impressed.  The restaurant was very clean, food was good and service was excellent!  Keep up the good work!', 'time': 1724045109, 'translated': False, 'business_name': 'Burger King'}\n",
            "{'author_name': 'B Dubb', 'author_url': 'https://www.google.com/maps/contrib/102909357183295582589/reviews', 'language': 'en', 'original_language': 'en', 'profile_photo_url': 'https://lh3.googleusercontent.com/a/ACg8ocJwUEJ-ciKeAn43J7he-UgAETSGXpDAs2QHBZDVBVVhElv3xw=s128-c0x00000000-cc-rp-mo-ba5', 'rating': 4, 'relative_time_description': 'a month ago', 'text': 'Just wanted a snack, got Jr whopper, very decent ( better flavor than many fast food),\\nEmployees (these) were above average in customer service skills\\n*** No\\nTrue 3.5 stars ***', 'time': 1722974748, 'translated': False, 'business_name': 'Burger King'}\n",
            "{'author_name': 'Colten Koops', 'author_url': 'https://www.google.com/maps/contrib/118277379457800585841/reviews', 'language': 'en', 'original_language': 'en', 'profile_photo_url': 'https://lh3.googleusercontent.com/a-/ALV-UjV_Iipk6I9Gm2B6-Go9nJhLtuJkR1e-emXigpxAjH-xUa2JCruU=s128-c0x00000000-cc-rp-mo-ba3', 'rating': 3, 'relative_time_description': '2 weeks ago', 'text': 'The food was great but it seemed like it took them a little while to get thru the orders.', 'time': 1725172419, 'translated': False, 'business_name': 'Burger King'}\n",
            "{'author_name': 'Michael Matthew', 'author_url': 'https://www.google.com/maps/contrib/101130033425023415934/reviews', 'language': 'en', 'original_language': 'en', 'profile_photo_url': 'https://lh3.googleusercontent.com/a-/ALV-UjX_MPUzRR50nB6bLeQ1Bid9mKPOyBVrJ7qhnUbBPAQN0sRRC0o=s128-c0x00000000-cc-rp-mo', 'rating': 1, 'relative_time_description': '2 weeks ago', 'text': 'Slow drive through, slow service inside. Will not honor coupons issued by the store staff, even after being asked to donate more money to the cause of the week. I used to eat here 4 times a week, I will not return, and I will encourage others to avoid this location.', 'time': 1725212060, 'translated': False, 'business_name': 'Del Taco'}\n",
            "{'author_name': 'Heather H', 'author_url': 'https://www.google.com/maps/contrib/100086883006349232331/reviews', 'language': 'en', 'original_language': 'en', 'profile_photo_url': 'https://lh3.googleusercontent.com/a-/ALV-UjX4Y2D1n9Fw2OqY3QCOkGR-NS6g9GWnIrKu0I82H4W3s8WiB98=s128-c0x00000000-cc-rp-mo-ba3', 'rating': 4, 'relative_time_description': '2 months ago', 'text': \"Menu options changed, no more beyond meat. Food is generally ok, just sad to see prices have gone up a lot recently.  Even so, it's a good fast food option for my family since you can get decent burger and fries as well as tacos.\", 'time': 1721316461, 'translated': False, 'business_name': 'Del Taco'}\n",
            "{'author_name': 'Tyler Alexander', 'author_url': 'https://www.google.com/maps/contrib/107954329523592424224/reviews', 'language': 'en', 'original_language': 'en', 'profile_photo_url': 'https://lh3.googleusercontent.com/a-/ALV-UjUhZ8lDjU6cP3_qCk6m4Q8v9rTGPZc-JCP_GKoO-bE_fIKRRcdQHw=s128-c0x00000000-cc-rp-mo-ba2', 'rating': 2, 'relative_time_description': '4 months ago', 'text': 'The only reason I\\'m giving this location 2 stars instead of 1 is the incredible friendliness and service of Mary here who helped me get things right. Ordered the fish tacos as usual but they were burnt to a crisp, rock hard, and inedible. I was so surprised at the texture at first I thought maybe the skin got put in there but upon further examination no they were just way overcooked. Thankfully, Mary had walked by our table and asked if everything was ok which is when we informed her of the fish and she asked if we wanted new ones to which I said please. Mary informed the manager that I\\'d like the fish a bit less cooked and the manager basically said, \"If we cook them less they\\'ll be undercooked, does he want them undercooked?!\" I heard this all from the dining table. Mary came back and asked if a chicken taco could do instead and I said that\\'d be wonderful. The taco was great. Mary deserves the promotion and the manager should quit if she\\'s not happy working here. A polite request from a customer deserving compensation for a meal they couldn\\'t even eat should not be treated with disdain. Give Mary the raise!', 'time': 1716010157, 'translated': False, 'business_name': 'Del Taco'}\n",
            "{'author_name': 'Adrienne Souder', 'author_url': 'https://www.google.com/maps/contrib/106479184045395818721/reviews', 'language': 'en', 'original_language': 'en', 'profile_photo_url': 'https://lh3.googleusercontent.com/a-/ALV-UjUCn4OX0VerosV7l7DeVxR3oDeWN4RTYvmGOQ-eYo0uEhZ7qxhFJA=s128-c0x00000000-cc-rp-mo-ba4', 'rating': 5, 'relative_time_description': 'a month ago', 'text': 'I always get everything I order and all the food is fresh. Very friendly service every time', 'time': 1723824451, 'translated': False, 'business_name': 'Del Taco'}\n",
            "{'author_name': 'Alix Jones', 'author_url': 'https://www.google.com/maps/contrib/104956888340244417162/reviews', 'language': 'en', 'original_language': 'en', 'profile_photo_url': 'https://lh3.googleusercontent.com/a-/ALV-UjWOB7YccvVtk1-UJ8c3oeDMOislp7J2sA2sM-iASDciSRLakvdU=s128-c0x00000000-cc-rp-mo-ba3', 'rating': 1, 'relative_time_description': '6 months ago', 'text': \"Usually I enjoy a quick bite at Del Taco, however my most recent experience left it hard for me to even stomach my food. I ordered via app, gave the recommended amount of time before picking up my food, and when I got there it wasn't done -- no biggy, I can wait. I ended up waiting over 40 minutes, and when I asked about how long they thought it would be until my food was ready, I was yelled at by an older man who said his name is Johnny, and told to cancel my order. When I went to do so, my order had already been marked as 'completed' - meaning I could not cancel it. When I finally did receive my food, which they did not start making until I started getting visibly upset, it was missing things like sour cream ($0.25 per taco), a medium lemonade ($3.09) and what I did receive wasn't even completely cooked. The entire crux of the experience however was the customer service -- between Johnny yelling at me and the cooks arguing and fighting with each other, I do not want to go back.\", 'time': 1709094977, 'translated': False, 'business_name': 'Del Taco'}\n"
          ]
        }
      ]
    },
    {
      "cell_type": "code",
      "source": [
        "# Printing the reviews in a clean dictionary format and selecting only relevant columns\n",
        "for review in reviews:\n",
        "    print({\n",
        "        'business_name': review['business_name'],\n",
        "        'author_name': review.get('author_name', ''),\n",
        "        'author_url': review.get('author_url', ''),\n",
        "        'rating': review.get('rating', ''),\n",
        "        'review_text': review.get('text', ''),\n",
        "        'time_description': review.get('relative_time_description', '')\n",
        "    })"
      ],
      "metadata": {
        "colab": {
          "base_uri": "https://localhost:8080/"
        },
        "id": "YQXuOzBDgpGC",
        "outputId": "27ba0330-e66f-419a-ba15-c19727640ac3"
      },
      "execution_count": null,
      "outputs": [
        {
          "output_type": "stream",
          "name": "stdout",
          "text": [
            "{'business_name': 'Little Caesars Pizza', 'author_name': 'Michael Diblasio', 'author_url': 'https://www.google.com/maps/contrib/102108617232083174319/reviews', 'rating': 1, 'review_text': 'Gotta love it. So I order for delivery. Tip 25%. They forgot the 2 liter soda. I call the location,  they tell me I need to drive down to pick it up..... First and last time ordering here.', 'time_description': 'in the last week'}\n",
            "{'business_name': 'Little Caesars Pizza', 'author_name': 'Linda Pallotta', 'author_url': 'https://www.google.com/maps/contrib/105647517702372625243/reviews', 'rating': 3, 'review_text': \"The employee who helped us didn't have a very professional attitude. At all the other Little Caesar establishments that we've been to, we were always able to get all the flat style chicken wings in our order and none of the drum stick style. She said that they couldn't do it and gave a lame excuse. The taste was a bit off, too. Other than that, things were OK. Our bread sticks were great, and the new item that is kind of like a pizza pocket was OK. They needed more filling on the inside.\", 'time_description': '5 months ago'}\n",
            "{'business_name': 'Little Caesars Pizza', 'author_name': 'Lilibeth Soliman', 'author_url': 'https://www.google.com/maps/contrib/108720645217746245338/reviews', 'rating': 5, 'review_text': 'Staff are friendly and the prices are affordable. And a good pizza.', 'time_description': 'a week ago'}\n",
            "{'business_name': 'Little Caesars Pizza', 'author_name': 'Draymond Green', 'author_url': 'https://www.google.com/maps/contrib/113640515012456210100/reviews', 'rating': 3, 'review_text': 'The management on dayshift is excellent. I would give my reviews five stars if the management on days controlled the night shift. unfortunately the manager on dayshift isn’t on night shift. There’s a young lady on Night Shift by the name of Ariana who is extremely rude... She’s called me a liar. She told me I don’t know what I’m talking about after Ordering a pizza I previously received the day before on dayshift. I’ve been told on nights there’s nothing they could do as far as ordering my pizza. Sometimes I have to go from Vallejo to Fairfield or even Richmond on Night Shift to get what I want because I always get turned down. Once again the day shift is great, great service, great food, great management. Ps… I only order the zesty cheese bread with jalapeño sauce and add sausage. Night shift tells me it can’t be done, go somewhere else because there’s nothing they can do. Dayshift takes my order and makes it perfectly every time.', 'time_description': '3 months ago'}\n",
            "{'business_name': 'Little Caesars Pizza', 'author_name': 'Mya Alvarez', 'author_url': 'https://www.google.com/maps/contrib/100991174805137233163/reviews', 'rating': 5, 'review_text': 'Little pizza bites are so good! Cheese pizza is okay. I needed more cheese, I could see the sauce on the pizza.', 'time_description': 'in the last week'}\n",
            "{'business_name': 'Burger King', 'author_name': 'Wendy Jo Wolf', 'author_url': 'https://www.google.com/maps/contrib/114930011686098388716/reviews', 'rating': 5, 'review_text': 'This is the best Burger King l have ever visited. I stop here often when traveling.  Always clean. Food is always good, and veggie toppings are always fresh.', 'time_description': 'a month ago'}\n",
            "{'business_name': 'Burger King', 'author_name': 'Elina Koka', 'author_url': 'https://www.google.com/maps/contrib/108432403776300947727/reviews', 'rating': 2, 'review_text': 'The food was like any other Burger King, but check your orders closely before leaving. We made the mistake getting on the highway first and 4 out of our 10 items were wrong. :(', 'time_description': 'a month ago'}\n",
            "{'business_name': 'Burger King', 'author_name': 'Clayton R. Telfer', 'author_url': 'https://www.google.com/maps/contrib/115342930335708231141/reviews', 'rating': 5, 'review_text': 'We stopped in on our way home from the Wasco County Fair, and we were very impressed.  The restaurant was very clean, food was good and service was excellent!  Keep up the good work!', 'time_description': 'a month ago'}\n",
            "{'business_name': 'Burger King', 'author_name': 'B Dubb', 'author_url': 'https://www.google.com/maps/contrib/102909357183295582589/reviews', 'rating': 4, 'review_text': 'Just wanted a snack, got Jr whopper, very decent ( better flavor than many fast food),\\nEmployees (these) were above average in customer service skills\\n*** No\\nTrue 3.5 stars ***', 'time_description': 'a month ago'}\n",
            "{'business_name': 'Burger King', 'author_name': 'Colten Koops', 'author_url': 'https://www.google.com/maps/contrib/118277379457800585841/reviews', 'rating': 3, 'review_text': 'The food was great but it seemed like it took them a little while to get thru the orders.', 'time_description': '2 weeks ago'}\n",
            "{'business_name': 'Del Taco', 'author_name': 'Michael Matthew', 'author_url': 'https://www.google.com/maps/contrib/101130033425023415934/reviews', 'rating': 1, 'review_text': 'Slow drive through, slow service inside. Will not honor coupons issued by the store staff, even after being asked to donate more money to the cause of the week. I used to eat here 4 times a week, I will not return, and I will encourage others to avoid this location.', 'time_description': '2 weeks ago'}\n",
            "{'business_name': 'Del Taco', 'author_name': 'Heather H', 'author_url': 'https://www.google.com/maps/contrib/100086883006349232331/reviews', 'rating': 4, 'review_text': \"Menu options changed, no more beyond meat. Food is generally ok, just sad to see prices have gone up a lot recently.  Even so, it's a good fast food option for my family since you can get decent burger and fries as well as tacos.\", 'time_description': '2 months ago'}\n",
            "{'business_name': 'Del Taco', 'author_name': 'Tyler Alexander', 'author_url': 'https://www.google.com/maps/contrib/107954329523592424224/reviews', 'rating': 2, 'review_text': 'The only reason I\\'m giving this location 2 stars instead of 1 is the incredible friendliness and service of Mary here who helped me get things right. Ordered the fish tacos as usual but they were burnt to a crisp, rock hard, and inedible. I was so surprised at the texture at first I thought maybe the skin got put in there but upon further examination no they were just way overcooked. Thankfully, Mary had walked by our table and asked if everything was ok which is when we informed her of the fish and she asked if we wanted new ones to which I said please. Mary informed the manager that I\\'d like the fish a bit less cooked and the manager basically said, \"If we cook them less they\\'ll be undercooked, does he want them undercooked?!\" I heard this all from the dining table. Mary came back and asked if a chicken taco could do instead and I said that\\'d be wonderful. The taco was great. Mary deserves the promotion and the manager should quit if she\\'s not happy working here. A polite request from a customer deserving compensation for a meal they couldn\\'t even eat should not be treated with disdain. Give Mary the raise!', 'time_description': '4 months ago'}\n",
            "{'business_name': 'Del Taco', 'author_name': 'Adrienne Souder', 'author_url': 'https://www.google.com/maps/contrib/106479184045395818721/reviews', 'rating': 5, 'review_text': 'I always get everything I order and all the food is fresh. Very friendly service every time', 'time_description': 'a month ago'}\n",
            "{'business_name': 'Del Taco', 'author_name': 'Alix Jones', 'author_url': 'https://www.google.com/maps/contrib/104956888340244417162/reviews', 'rating': 1, 'review_text': \"Usually I enjoy a quick bite at Del Taco, however my most recent experience left it hard for me to even stomach my food. I ordered via app, gave the recommended amount of time before picking up my food, and when I got there it wasn't done -- no biggy, I can wait. I ended up waiting over 40 minutes, and when I asked about how long they thought it would be until my food was ready, I was yelled at by an older man who said his name is Johnny, and told to cancel my order. When I went to do so, my order had already been marked as 'completed' - meaning I could not cancel it. When I finally did receive my food, which they did not start making until I started getting visibly upset, it was missing things like sour cream ($0.25 per taco), a medium lemonade ($3.09) and what I did receive wasn't even completely cooked. The entire crux of the experience however was the customer service -- between Johnny yelling at me and the cooks arguing and fighting with each other, I do not want to go back.\", 'time_description': '6 months ago'}\n"
          ]
        }
      ]
    },
    {
      "cell_type": "markdown",
      "source": [
        "## Task III - Data Enrichment"
      ],
      "metadata": {
        "id": "ar38951iiZ5r"
      }
    },
    {
      "cell_type": "code",
      "source": [
        "# Testing it on one review first\n",
        "\n",
        "review_1 = reviews[0]['text']\n",
        "print(review_1)\n",
        "\n",
        "# Defining chat or prompt to get critical structured information from each review\n",
        "\n",
        "chat = [\n",
        "    {\"role\": \"system\", \"content\": \"What critical structured information can we gather from this review? What was the customer's sentiment? Return three strings one for the critical structured information (which should contain three phrases not more), one for predicted rating (from 1 to 5 with 1 as very bad and 5 as very good) and one for the customer's sentiment which can be one of the following: (Very Good, Good, Neutral, Bad, Very Bad)\"},\n",
        "    {\"role\": \"user\", \"content\": review_1}\n",
        "]\n",
        "print(chat)\n",
        "\n",
        "\n",
        "\n",
        "chat_response = pipe(chat, max_new_tokens=512)\n",
        "critical_information_string = chat_response[0]['generated_text'][-1]['content']\n",
        "print(critical_information_string)\n"
      ],
      "metadata": {
        "colab": {
          "base_uri": "https://localhost:8080/"
        },
        "id": "QoSrk4lXieKk",
        "outputId": "864f2f76-8d7d-43b6-beb2-9bddfb82a50f"
      },
      "execution_count": null,
      "outputs": [
        {
          "output_type": "stream",
          "name": "stderr",
          "text": [
            "Setting `pad_token_id` to `eos_token_id`:128001 for open-end generation.\n"
          ]
        },
        {
          "output_type": "stream",
          "name": "stdout",
          "text": [
            "Gotta love it. So I order for delivery. Tip 25%. They forgot the 2 liter soda. I call the location,  they tell me I need to drive down to pick it up..... First and last time ordering here.\n",
            "[{'role': 'system', 'content': \"What critical structured information can we gather from this review? What was the customer's sentiment? Return three strings one for the critical structured information (which should contain three phrases not more), one for predicted rating (from 1 to 5 with 1 as very bad and 5 as very good) and one for the customer's sentiment which can be one of the following: (Very Good, Good, Neutral, Bad, Very Bad)\"}, {'role': 'user', 'content': 'Gotta love it. So I order for delivery. Tip 25%. They forgot the 2 liter soda. I call the location,  they tell me I need to drive down to pick it up..... First and last time ordering here.'}]\n",
            "Here are the critical structured information, predicted rating, and customer's sentiment:\n",
            "\n",
            "**Critical Structured Information:** \"Order missing item\", \"Inconvenient pickup request\", \"Poor customer service\"\n",
            "\n",
            "**Predicted Rating:** 2\n",
            "\n",
            "**Customer's Sentiment:** Bad\n"
          ]
        }
      ]
    },
    {
      "cell_type": "code",
      "source": [
        "# Creating a function now to do this for every review\n",
        "\n",
        "def get_critical_information(review):\n",
        "    chat = [\n",
        "    {\"role\": \"system\", \"content\": \"What critical structured information can we gather from this review? What was the customer's sentiment? Return three strings one for the critical structured information (which should contain three phrases not more), one for predicted rating (from 1 to 5 with 1 as very bad and 5 as very good) and one for the customer's sentiment which can be one of the following: (Very Good, Good, Neutral, Bad, Very Bad)\"},\n",
        "    {\"role\": \"user\", \"content\": review}\n",
        "    ]\n",
        "    chat_response = pipe(chat, max_new_tokens=512)\n",
        "    critical_information_string = chat_response[0]['generated_text'][-1]['content']\n",
        "    return critical_information_string\n",
        "\n",
        "# Extracting text/review from reviews dictionary\n",
        "reviews_list = [review['text'] for review in reviews]\n",
        "\n",
        "# Calling the function\n",
        "\n",
        "summarized_reviews = []\n",
        "for review in reviews_list:\n",
        "    if review.strip():  # Skip empty lines\n",
        "        summary = get_critical_information(review)\n",
        "        summarized_reviews.append(summary)\n",
        "\n",
        "# Display summarized reviews\n",
        "for sr in summarized_reviews:\n",
        "    print(sr)\n"
      ],
      "metadata": {
        "colab": {
          "base_uri": "https://localhost:8080/"
        },
        "id": "AwtuzgLQm-2y",
        "outputId": "61b05123-91df-4c59-8be6-beb6f7857408"
      },
      "execution_count": null,
      "outputs": [
        {
          "output_type": "stream",
          "name": "stderr",
          "text": [
            "Setting `pad_token_id` to `eos_token_id`:128001 for open-end generation.\n",
            "Setting `pad_token_id` to `eos_token_id`:128001 for open-end generation.\n",
            "Setting `pad_token_id` to `eos_token_id`:128001 for open-end generation.\n",
            "Setting `pad_token_id` to `eos_token_id`:128001 for open-end generation.\n",
            "Setting `pad_token_id` to `eos_token_id`:128001 for open-end generation.\n",
            "Setting `pad_token_id` to `eos_token_id`:128001 for open-end generation.\n",
            "Setting `pad_token_id` to `eos_token_id`:128001 for open-end generation.\n",
            "Setting `pad_token_id` to `eos_token_id`:128001 for open-end generation.\n",
            "Setting `pad_token_id` to `eos_token_id`:128001 for open-end generation.\n",
            "You seem to be using the pipelines sequentially on GPU. In order to maximize efficiency please use a dataset\n",
            "Setting `pad_token_id` to `eos_token_id`:128001 for open-end generation.\n",
            "Setting `pad_token_id` to `eos_token_id`:128001 for open-end generation.\n",
            "Setting `pad_token_id` to `eos_token_id`:128001 for open-end generation.\n",
            "Setting `pad_token_id` to `eos_token_id`:128001 for open-end generation.\n",
            "Setting `pad_token_id` to `eos_token_id`:128001 for open-end generation.\n",
            "Setting `pad_token_id` to `eos_token_id`:128001 for open-end generation.\n"
          ]
        },
        {
          "output_type": "stream",
          "name": "stdout",
          "text": [
            "Here are the critical structured information, predicted rating, and customer's sentiment:\n",
            "\n",
            "**Critical Structured Information:** \"Forgot the 2 liter soda\", \"Need to drive down to pick it up\", \"First and last time ordering here\"\n",
            "\n",
            "**Predicted Rating:** 2\n",
            "\n",
            "**Customer's Sentiment:** Bad\n",
            "Here are the requested strings:\n",
            "\n",
            "**Critical Structured Information:** \"Unprofessional attitude\", \"Lame excuse\", \"Taste was a bit off\"\n",
            "\n",
            "**Predicted Rating:** 3\n",
            "\n",
            "**Customer's Sentiment:** Bad\n",
            "Here are the requested strings:\n",
            "\n",
            "**Critical Structured Information:** Friendly staff, affordable prices, good pizza\n",
            "\n",
            "**Predicted Rating:** 4\n",
            "\n",
            "**Customer's Sentiment:** Good\n",
            "Here are the critical structured information, predicted rating, and customer's sentiment:\n",
            "\n",
            "**Critical Structured Information:** \"Excellent management on dayshift\", \"Rude manager on night shift\", \"Difficulty ordering pizza on night shift\"\n",
            "\n",
            "**Predicted Rating:** 3\n",
            "\n",
            "**Customer's Sentiment:** Bad\n",
            "Here are the critical structured information, predicted rating, and customer's sentiment:\n",
            "\n",
            "**Critical Structured Information:** \"Pizza bites are good\", \"Cheese pizza is okay\", \"Needed more cheese\"\n",
            "\n",
            "**Predicted Rating:** 3 (The customer seemed to enjoy the pizza bites, but had some issues with the cheese pizza, so a rating of 3 seems fitting)\n",
            "\n",
            "**Customer's Sentiment:** Good (The customer had some positive comments, but also some negative ones, so a neutral sentiment like \"Good\" seems appropriate)\n",
            "Here are the requested strings:\n",
            "\n",
            "**Critical Structured Information:** \"Best Burger King\", \"Always clean\", \"Fresh veggie toppings\"\n",
            "\n",
            "**Predicted Rating:** 5\n",
            "\n",
            "**Customer's Sentiment:** Very Good\n",
            "Here are the requested strings:\n",
            "\n",
            "Critical Structured Information: \"check your orders closely\", \"4 out of our 10 items were wrong\", \"made the mistake getting on the highway first\"\n",
            "\n",
            "Predicted Rating: 3\n",
            "\n",
            "Customer's Sentiment: Bad\n",
            "Here are the requested strings:\n",
            "\n",
            "**Critical Structured Information:** \"very clean\", \"food was good\", \"service was excellent\"\n",
            "\n",
            "**Predicted Rating:** 5 (very good)\n",
            "\n",
            "**Customer's Sentiment:** Good\n",
            "Here are the critical structured information, predicted rating, and customer's sentiment:\n",
            "\n",
            "**Critical Structured Information:** \"Jr whopper\", \"better flavor than many fast food\", \"above average in customer service skills\"\n",
            "\n",
            "**Predicted Rating:** 4\n",
            "\n",
            "**Customer's Sentiment:** Good\n",
            "Here are the critical structured information, predicted rating, and customer's sentiment:\n",
            "\n",
            "**Critical Structured Information:** \"Great food\", \"Took a little while to get thru orders\", \"Delayed service\"\n",
            "\n",
            "**Predicted Rating:** 4\n",
            "\n",
            "**Customer's Sentiment:** Good\n",
            "Here are the requested outputs:\n",
            "\n",
            "**Critical Structured Information:** \"Slow drive-through\", \"Slow service inside\", \"Will not honor coupons\"\n",
            "\n",
            "**Predicted Rating:** 1 (very bad)\n",
            "\n",
            "**Customer's Sentiment:** Bad\n",
            "Here are the requested strings:\n",
            "\n",
            "**Critical Structured Information:** \"Menu options changed\", \"No more Beyond Meat\", \"Prices have gone up a lot\"\n",
            "\n",
            "**Predicted Rating:** 3 (the customer seems to be generally satisfied with the food, but has some complaints about the menu changes and price increases)\n",
            "\n",
            "**Customer's Sentiment:** Neutral\n",
            "Here are the requested strings:\n",
            "\n",
            "**Critical Structured Information:** \"burnt to a crisp\", \"rock hard\", \"inedible\"\n",
            "\n",
            "**Predicted Rating:** 2\n",
            "\n",
            "**Customer's Sentiment:** Bad\n",
            "Here are the requested outputs:\n",
            "\n",
            "**Critical Structured Information:** \"Get everything I order\", \"All food is fresh\", \"Very friendly service\"\n",
            "\n",
            "**Predicted Rating:** 5\n",
            "\n",
            "**Customer's Sentiment:** Very Good\n",
            "Here are the critical structured information, predicted rating, and customer's sentiment:\n",
            "\n",
            "**Critical Structured Information:** \"Order not ready\", \"Long wait time\", \"Poor customer service\"\n",
            "\n",
            "**Predicted Rating:** 1 (very bad)\n",
            "\n",
            "**Customer's Sentiment:** Bad\n"
          ]
        }
      ]
    },
    {
      "cell_type": "code",
      "source": [
        "# Defining a function to extract the three columns from summarized_reviews\n",
        "def extract_critical_information_simple(summarized_text):\n",
        "    # Split the text by newline characters\n",
        "    lines = summarized_text.split('\\n')\n",
        "\n",
        "    # Initializing variables to hold the extracted data\n",
        "    critical_info = None\n",
        "    predicted_rating = None\n",
        "    sentiment = None\n",
        "\n",
        "    # Looping over lines and extract relevant information based on keywords\n",
        "    for line in lines:\n",
        "        if \"Critical Structured Information:\" in line:\n",
        "            critical_info = line.split(\"Critical Structured Information:\")[-1].strip()\n",
        "        elif \"Predicted Rating:\" in line:\n",
        "            predicted_rating = line.split(\"Predicted Rating:\")[-1].strip()\n",
        "        elif \"Customer's Sentiment:\" in line:\n",
        "            sentiment = line.split(\"Customer's Sentiment:\")[-1].strip()\n",
        "\n",
        "    return critical_info, predicted_rating, sentiment\n",
        "\n",
        "# Testing the function on a sample summarized review\n",
        "sample_summarized_review = summarized_reviews[0]\n",
        "print(extract_critical_information_simple(sample_summarized_review))"
      ],
      "metadata": {
        "colab": {
          "base_uri": "https://localhost:8080/"
        },
        "id": "WnNOAmyp1w1d",
        "outputId": "a8a6e623-bbc8-4651-ec06-147956b5293f"
      },
      "execution_count": null,
      "outputs": [
        {
          "output_type": "stream",
          "name": "stdout",
          "text": [
            "('** \"Forgot the 2 liter soda\", \"Need to drive down to pick it up\", \"First and last time ordering here\"', '** 2', '** Bad')\n"
          ]
        }
      ]
    },
    {
      "cell_type": "code",
      "source": [
        "# Creating lists to store the extracted information\n",
        "critical_info_list = []\n",
        "predicted_rating_list = []\n",
        "sentiment_list = []\n",
        "\n",
        "# Looping over each summarized review and extracting the relevant information\n",
        "for review in summarized_reviews:\n",
        "    critical_info, predicted_rating, sentiment = extract_critical_information_simple(review)\n",
        "    critical_info_list.append(critical_info)\n",
        "    predicted_rating_list.append(predicted_rating)\n",
        "    sentiment_list.append(sentiment)\n",
        "\n",
        "# Creating a new dataframe with the extracted columns\n",
        "structured_reviews_df = pd.DataFrame({\n",
        "    'Critical Structured Information': critical_info_list,\n",
        "    'Predicted Rating': predicted_rating_list,\n",
        "    'Customer\\'s Sentiment': sentiment_list\n",
        "})\n",
        "\n",
        "# Displaying the structured reviews dataframe\n",
        "print(structured_reviews_df.head())"
      ],
      "metadata": {
        "colab": {
          "base_uri": "https://localhost:8080/"
        },
        "id": "cusW9zYT3qe5",
        "outputId": "a88da600-add4-452f-debe-315b5643eb87"
      },
      "execution_count": null,
      "outputs": [
        {
          "output_type": "stream",
          "name": "stdout",
          "text": [
            "                     Critical Structured Information  \\\n",
            "0  ** \"Forgot the 2 liter soda\", \"Need to drive d...   \n",
            "1  ** \"Unprofessional attitude\", \"Lame excuse\", \"...   \n",
            "2   ** Friendly staff, affordable prices, good pizza   \n",
            "3  ** \"Excellent management on dayshift\", \"Rude m...   \n",
            "4  ** \"Pizza bites are good\", \"Cheese pizza is ok...   \n",
            "\n",
            "                                    Predicted Rating  \\\n",
            "0                                               ** 2   \n",
            "1                                               ** 3   \n",
            "2                                               ** 4   \n",
            "3                                               ** 3   \n",
            "4  ** 3 (The customer seemed to enjoy the pizza b...   \n",
            "\n",
            "                                Customer's Sentiment  \n",
            "0                                             ** Bad  \n",
            "1                                             ** Bad  \n",
            "2                                            ** Good  \n",
            "3                                             ** Bad  \n",
            "4  ** Good (The customer had some positive commen...  \n"
          ]
        }
      ]
    },
    {
      "cell_type": "code",
      "source": [
        "import pandas as pd\n",
        "\n",
        "# Creating a dataframe for reviews\n",
        "reviews_df = pd.DataFrame(reviews)\n",
        "\n",
        "# Creating a matching index for both dataframes\n",
        "reviews_df.reset_index(inplace=True)  # Ensure both dataframes have a matching index.\n",
        "structured_reviews_df.reset_index(inplace=True)\n",
        "\n",
        "# Merging the two dataframes based on index\n",
        "combined_df = pd.merge(reviews_df, structured_reviews_df, on='index')\n",
        "\n",
        "# Exploding the 'Critical Structured Information' column\n",
        "# First, convert the critical information column to a list (if it's a string)\n",
        "combined_df['Critical Structured Information'] = combined_df['Critical Structured Information'].apply(lambda x: x.split(\", \"))\n",
        "\n",
        "# Performing the explode operation to create a new row for each item in the 'Critical Structured Information'\n",
        "exploded_df = combined_df.explode('Critical Structured Information')\n",
        "\n",
        "# Final dataframe contains all reviews and exploded critical information\n",
        "print(exploded_df.head())"
      ],
      "metadata": {
        "colab": {
          "base_uri": "https://localhost:8080/"
        },
        "id": "10p74rlnZ69b",
        "outputId": "7957bb09-8d26-40c6-fab6-3e4b2ef3801f"
      },
      "execution_count": null,
      "outputs": [
        {
          "output_type": "stream",
          "name": "stdout",
          "text": [
            "   index       author_name                                         author_url  \\\n",
            "0      0  Michael Diblasio  https://www.google.com/maps/contrib/1021086172...   \n",
            "0      0  Michael Diblasio  https://www.google.com/maps/contrib/1021086172...   \n",
            "0      0  Michael Diblasio  https://www.google.com/maps/contrib/1021086172...   \n",
            "1      1    Linda Pallotta  https://www.google.com/maps/contrib/1056475177...   \n",
            "1      1    Linda Pallotta  https://www.google.com/maps/contrib/1056475177...   \n",
            "\n",
            "  language original_language  \\\n",
            "0       en                en   \n",
            "0       en                en   \n",
            "0       en                en   \n",
            "1       en                en   \n",
            "1       en                en   \n",
            "\n",
            "                                   profile_photo_url  rating  \\\n",
            "0  https://lh3.googleusercontent.com/a/ACg8ocI1r9...       1   \n",
            "0  https://lh3.googleusercontent.com/a/ACg8ocI1r9...       1   \n",
            "0  https://lh3.googleusercontent.com/a/ACg8ocI1r9...       1   \n",
            "1  https://lh3.googleusercontent.com/a/ACg8ocLqQz...       3   \n",
            "1  https://lh3.googleusercontent.com/a/ACg8ocLqQz...       3   \n",
            "\n",
            "  relative_time_description  \\\n",
            "0          in the last week   \n",
            "0          in the last week   \n",
            "0          in the last week   \n",
            "1              5 months ago   \n",
            "1              5 months ago   \n",
            "\n",
            "                                                text        time  translated  \\\n",
            "0  Gotta love it. So I order for delivery. Tip 25...  1726426023       False   \n",
            "0  Gotta love it. So I order for delivery. Tip 25...  1726426023       False   \n",
            "0  Gotta love it. So I order for delivery. Tip 25...  1726426023       False   \n",
            "1  The employee who helped us didn't have a very ...  1712037527       False   \n",
            "1  The employee who helped us didn't have a very ...  1712037527       False   \n",
            "\n",
            "          business_name      Critical Structured Information Predicted Rating  \\\n",
            "0  Little Caesars Pizza         ** \"Forgot the 2 liter soda\"             ** 2   \n",
            "0  Little Caesars Pizza   \"Need to drive down to pick it up\"             ** 2   \n",
            "0  Little Caesars Pizza  \"First and last time ordering here\"             ** 2   \n",
            "1  Little Caesars Pizza         ** \"Unprofessional attitude\"             ** 3   \n",
            "1  Little Caesars Pizza                        \"Lame excuse\"             ** 3   \n",
            "\n",
            "  Customer's Sentiment  \n",
            "0               ** Bad  \n",
            "0               ** Bad  \n",
            "0               ** Bad  \n",
            "1               ** Bad  \n",
            "1               ** Bad  \n"
          ]
        }
      ]
    },
    {
      "cell_type": "markdown",
      "source": [
        "## Task IV - Load the data"
      ],
      "metadata": {
        "id": "eWfZ0LKJz3bl"
      }
    },
    {
      "cell_type": "code",
      "source": [
        "import sqlite3\n",
        "\n",
        "# Creating a connection\n",
        "conn = sqlite3.connect('reviews_database.db')\n",
        "\n",
        "# Creating a new table to store the structured review data\n",
        "exploded_df.to_sql('reviews', conn, if_exists='replace', index=False)\n",
        "\n",
        "# Commit the changes\n",
        "conn.commit()\n",
        "\n",
        "print(\"Data successfully loaded into SQLite database!\")\n"
      ],
      "metadata": {
        "colab": {
          "base_uri": "https://localhost:8080/"
        },
        "id": "3YHAX5n_z9C6",
        "outputId": "d641a9dc-6665-4449-a6ef-c1214b146159"
      },
      "execution_count": null,
      "outputs": [
        {
          "output_type": "stream",
          "name": "stdout",
          "text": [
            "Data successfully loaded into SQLite database!\n"
          ]
        }
      ]
    },
    {
      "cell_type": "markdown",
      "source": [
        "## Task V - Query the enriched database"
      ],
      "metadata": {
        "id": "Bb3MDAAb0otW"
      }
    },
    {
      "cell_type": "code",
      "source": [
        "# Querying the data from the reviews table\n",
        "query = \"SELECT * FROM reviews\"\n",
        "queried_df = pd.read_sql(query, conn)\n",
        "\n",
        "# Close the connection\n",
        "conn.close()\n",
        "\n",
        "# Display the result\n",
        "print(queried_df.head())"
      ],
      "metadata": {
        "colab": {
          "base_uri": "https://localhost:8080/"
        },
        "id": "QGptVbLN0snt",
        "outputId": "fdf8bf6f-035e-44e7-ffda-2cce5ae20481"
      },
      "execution_count": null,
      "outputs": [
        {
          "output_type": "stream",
          "name": "stdout",
          "text": [
            "   index       author_name                                         author_url  \\\n",
            "0      0  Michael Diblasio  https://www.google.com/maps/contrib/1021086172...   \n",
            "1      0  Michael Diblasio  https://www.google.com/maps/contrib/1021086172...   \n",
            "2      0  Michael Diblasio  https://www.google.com/maps/contrib/1021086172...   \n",
            "3      1    Linda Pallotta  https://www.google.com/maps/contrib/1056475177...   \n",
            "4      1    Linda Pallotta  https://www.google.com/maps/contrib/1056475177...   \n",
            "\n",
            "  language original_language  \\\n",
            "0       en                en   \n",
            "1       en                en   \n",
            "2       en                en   \n",
            "3       en                en   \n",
            "4       en                en   \n",
            "\n",
            "                                   profile_photo_url  rating  \\\n",
            "0  https://lh3.googleusercontent.com/a/ACg8ocI1r9...       1   \n",
            "1  https://lh3.googleusercontent.com/a/ACg8ocI1r9...       1   \n",
            "2  https://lh3.googleusercontent.com/a/ACg8ocI1r9...       1   \n",
            "3  https://lh3.googleusercontent.com/a/ACg8ocLqQz...       3   \n",
            "4  https://lh3.googleusercontent.com/a/ACg8ocLqQz...       3   \n",
            "\n",
            "  relative_time_description  \\\n",
            "0          in the last week   \n",
            "1          in the last week   \n",
            "2          in the last week   \n",
            "3              5 months ago   \n",
            "4              5 months ago   \n",
            "\n",
            "                                                text        time  translated  \\\n",
            "0  Gotta love it. So I order for delivery. Tip 25...  1726426023           0   \n",
            "1  Gotta love it. So I order for delivery. Tip 25...  1726426023           0   \n",
            "2  Gotta love it. So I order for delivery. Tip 25...  1726426023           0   \n",
            "3  The employee who helped us didn't have a very ...  1712037527           0   \n",
            "4  The employee who helped us didn't have a very ...  1712037527           0   \n",
            "\n",
            "          business_name      Critical Structured Information Predicted Rating  \\\n",
            "0  Little Caesars Pizza         ** \"Forgot the 2 liter soda\"             ** 2   \n",
            "1  Little Caesars Pizza   \"Need to drive down to pick it up\"             ** 2   \n",
            "2  Little Caesars Pizza  \"First and last time ordering here\"             ** 2   \n",
            "3  Little Caesars Pizza         ** \"Unprofessional attitude\"             ** 3   \n",
            "4  Little Caesars Pizza                        \"Lame excuse\"             ** 3   \n",
            "\n",
            "  Customer's Sentiment  \n",
            "0               ** Bad  \n",
            "1               ** Bad  \n",
            "2               ** Bad  \n",
            "3               ** Bad  \n",
            "4               ** Bad  \n"
          ]
        }
      ]
    },
    {
      "cell_type": "code",
      "source": [
        "# Mount Google Drive\n",
        "import os\n",
        "from google.colab import drive\n",
        "drive.mount('/content/drive')\n",
        "\n",
        "!cp \"/content/drive/MyDrive/Colab Notebooks/de_lab_4_Ahmad_Ahsan.ipynb\" ./\n",
        "!jupyter nbconvert --to html \"de_lab_4_Ahmad_Ahsan.ipynb\""
      ],
      "metadata": {
        "colab": {
          "base_uri": "https://localhost:8080/"
        },
        "id": "cedZ3ZCu4fZl",
        "outputId": "e7e45d90-331f-4391-a54c-26947263bcd0"
      },
      "execution_count": null,
      "outputs": [
        {
          "output_type": "stream",
          "name": "stdout",
          "text": [
            "Mounted at /content/drive\n",
            "[NbConvertApp] Converting notebook de_lab_4_Ahmad_Ahsan.ipynb to html\n",
            "[NbConvertApp] Writing 650839 bytes to de_lab_4_Ahmad_Ahsan.html\n"
          ]
        }
      ]
    },
    {
      "cell_type": "markdown",
      "source": [
        "I can't convert this notebook to html, it is giving me an error: \"KeyError: 'state' so I am trying to remove the widget."
      ],
      "metadata": {
        "id": "DPlkruR6AWGb"
      }
    }
  ]
}